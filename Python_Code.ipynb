{
  "nbformat": 4,
  "nbformat_minor": 0,
  "metadata": {
    "colab": {
      "provenance": [],
      "authorship_tag": "ABX9TyPtlNZqi5taSPtRd3RHxU4v",
      "include_colab_link": true
    },
    "kernelspec": {
      "name": "python3",
      "display_name": "Python 3"
    },
    "language_info": {
      "name": "python"
    }
  },
  "cells": [
    {
      "cell_type": "markdown",
      "metadata": {
        "id": "view-in-github",
        "colab_type": "text"
      },
      "source": [
        "<a href=\"https://colab.research.google.com/github/Manisha6201/Python_Code/blob/main/Python_Code.ipynb\" target=\"_parent\"><img src=\"https://colab.research.google.com/assets/colab-badge.svg\" alt=\"Open In Colab\"/></a>"
      ]
    },
    {
      "cell_type": "code",
      "execution_count": null,
      "metadata": {
        "colab": {
          "base_uri": "https://localhost:8080/"
        },
        "id": "pwIxkO8mXi13",
        "outputId": "363b4043-6223-41e2-d3d0-6cc59ecec229"
      },
      "outputs": [
        {
          "output_type": "stream",
          "name": "stdout",
          "text": [
            "[20, 5.0, 'Manisha', 'orange', 10]\n"
          ]
        }
      ],
      "source": [
        "List1=[20,5.0,\"Manisha\",\"orange\",10]\n",
        "print(List1)"
      ]
    },
    {
      "cell_type": "code",
      "source": [
        "List1=[20,5.0,\"Manisha\",\"orange\",10]\n",
        "List1[0]"
      ],
      "metadata": {
        "colab": {
          "base_uri": "https://localhost:8080/"
        },
        "id": "PyyfUzOCYVDL",
        "outputId": "d80bda85-6d80-4b3a-d327-58d88840242b"
      },
      "execution_count": null,
      "outputs": [
        {
          "output_type": "execute_result",
          "data": {
            "text/plain": [
              "20"
            ]
          },
          "metadata": {},
          "execution_count": 3
        }
      ]
    },
    {
      "cell_type": "code",
      "source": [
        "List1=[20,5.0,\"Manisha\",\"orange\",10]\n",
        "List1[2]"
      ],
      "metadata": {
        "colab": {
          "base_uri": "https://localhost:8080/",
          "height": 36
        },
        "id": "nawWeqkbYcUs",
        "outputId": "a46497cc-927c-469b-c77b-becc7aed8010"
      },
      "execution_count": null,
      "outputs": [
        {
          "output_type": "execute_result",
          "data": {
            "text/plain": [
              "'Manisha'"
            ],
            "application/vnd.google.colaboratory.intrinsic+json": {
              "type": "string"
            }
          },
          "metadata": {},
          "execution_count": 4
        }
      ]
    },
    {
      "cell_type": "code",
      "source": [
        "List1=[20,5.0,\"Manisha\",\"orange\",10]\n",
        "List1[-1]"
      ],
      "metadata": {
        "colab": {
          "base_uri": "https://localhost:8080/"
        },
        "id": "Wgk9L1ehYiOk",
        "outputId": "7b481af7-9fce-4cad-ca5f-2ab6e666fa83"
      },
      "execution_count": null,
      "outputs": [
        {
          "output_type": "execute_result",
          "data": {
            "text/plain": [
              "10"
            ]
          },
          "metadata": {},
          "execution_count": 13
        }
      ]
    },
    {
      "cell_type": "code",
      "source": [
        "List1=[20,5.0,\"Manisha\",\"orange\",10]\n",
        "List1[2]=2001\n",
        "print(List1)"
      ],
      "metadata": {
        "colab": {
          "base_uri": "https://localhost:8080/"
        },
        "id": "tfNTDtx9Yn2G",
        "outputId": "d843246e-28ee-495c-a5f8-de1c04a14060"
      },
      "execution_count": null,
      "outputs": [
        {
          "output_type": "stream",
          "name": "stdout",
          "text": [
            "[20, 5.0, 2001, 'orange', 10]\n"
          ]
        }
      ]
    },
    {
      "cell_type": "code",
      "source": [
        "List1=[20,5.0,\"Manisha\",\"orange\",10]\n",
        "List1[2:4]"
      ],
      "metadata": {
        "colab": {
          "base_uri": "https://localhost:8080/"
        },
        "id": "7Yeed__JZUii",
        "outputId": "fba7022f-fb5f-40ab-e6a4-20d9cafb5fbd"
      },
      "execution_count": null,
      "outputs": [
        {
          "output_type": "execute_result",
          "data": {
            "text/plain": [
              "['Manisha', 'orange']"
            ]
          },
          "metadata": {},
          "execution_count": 19
        }
      ]
    },
    {
      "cell_type": "code",
      "source": [
        "List1=[20,5.0,\"Manisha\",\"orange\",10]\n",
        "List1[:4]"
      ],
      "metadata": {
        "colab": {
          "base_uri": "https://localhost:8080/"
        },
        "id": "3fjlhyQsabk2",
        "outputId": "2ce5f6a7-c59b-40f5-b92c-df505ef59514"
      },
      "execution_count": null,
      "outputs": [
        {
          "output_type": "execute_result",
          "data": {
            "text/plain": [
              "[20, 5.0, 'Manisha', 'orange']"
            ]
          },
          "metadata": {},
          "execution_count": 20
        }
      ]
    },
    {
      "cell_type": "code",
      "source": [
        "List1=[20,5.0,\"Manisha\",\"orange\",10]\n",
        "List1[2:]"
      ],
      "metadata": {
        "colab": {
          "base_uri": "https://localhost:8080/"
        },
        "id": "YFYSJ1ISan_Z",
        "outputId": "84f1ffcd-f31f-47fd-c7a5-96b075c5bd59"
      },
      "execution_count": null,
      "outputs": [
        {
          "output_type": "execute_result",
          "data": {
            "text/plain": [
              "['Manisha', 'orange', 10]"
            ]
          },
          "metadata": {},
          "execution_count": 21
        }
      ]
    },
    {
      "cell_type": "code",
      "source": [
        "List1=[20,5.0,\"Manisha\",\"orange\",10]\n",
        "List1[-4:-1]"
      ],
      "metadata": {
        "colab": {
          "base_uri": "https://localhost:8080/"
        },
        "id": "OnNvkHZVbDHa",
        "outputId": "228535f0-9659-45f5-cb27-68fd243dfa05"
      },
      "execution_count": null,
      "outputs": [
        {
          "output_type": "execute_result",
          "data": {
            "text/plain": [
              "[5.0, 'Manisha', 'orange']"
            ]
          },
          "metadata": {},
          "execution_count": 23
        }
      ]
    },
    {
      "cell_type": "code",
      "source": [
        "List1=[20,5.0,\"Manisha\",\"orange\",10]\n",
        "if \"Manisha\" in List1:\n",
        "  print(\"Yes\")"
      ],
      "metadata": {
        "colab": {
          "base_uri": "https://localhost:8080/"
        },
        "id": "Isk9hwNleeis",
        "outputId": "358da34c-60c2-481e-f736-d8da671b0332"
      },
      "execution_count": null,
      "outputs": [
        {
          "output_type": "stream",
          "name": "stdout",
          "text": [
            "Yes\n"
          ]
        }
      ]
    },
    {
      "cell_type": "code",
      "source": [
        "List1=[20,5.0,\"Manisha\",\"orange\",10]\n",
        "List1[1:4]=[2.0,\"Manju\",\"apple\"]\n",
        "print(List1)"
      ],
      "metadata": {
        "colab": {
          "base_uri": "https://localhost:8080/"
        },
        "id": "HFjmbVMwfm5I",
        "outputId": "95cffc55-fbde-415f-dbe1-f12f92cc8c6e"
      },
      "execution_count": null,
      "outputs": [
        {
          "output_type": "stream",
          "name": "stdout",
          "text": [
            "[20, 2.0, 'Manju', 'apple', 10]\n"
          ]
        }
      ]
    },
    {
      "cell_type": "code",
      "source": [
        "List1=[20,5.0,\"Manisha\",\"orange\",10]\n",
        "List1[1:2]=[3.0,\"Raghav\"]\n",
        "print(List1)"
      ],
      "metadata": {
        "colab": {
          "base_uri": "https://localhost:8080/"
        },
        "id": "7CbJXcusgNz-",
        "outputId": "765340b4-864f-4489-ffdb-3971fa7d6834"
      },
      "execution_count": null,
      "outputs": [
        {
          "output_type": "stream",
          "name": "stdout",
          "text": [
            "[20, 3.0, 'Raghav', 'Manisha', 'orange', 10]\n"
          ]
        }
      ]
    },
    {
      "cell_type": "code",
      "source": [
        "List1=[20,5.0,\"Manisha\",\"orange\",10]\n",
        "List1[1:2]=[\"Om\",\"Jai\",\"Jagdish\",\"Hare\"]\n",
        "print(List1)"
      ],
      "metadata": {
        "colab": {
          "base_uri": "https://localhost:8080/"
        },
        "id": "aS9-fZOsgivp",
        "outputId": "60029a0d-a87b-4477-839c-bb20d065e405"
      },
      "execution_count": null,
      "outputs": [
        {
          "output_type": "stream",
          "name": "stdout",
          "text": [
            "[20, 'Om', 'Jai', 'Jagdish', 'Hare', 'Manisha', 'orange', 10]\n"
          ]
        }
      ]
    },
    {
      "cell_type": "code",
      "source": [
        "x=[20,5.0,\"Manisha\",\"orange\",10]\n",
        "y=[30,3.0,\"Harender\",\"cherry\",50]\n",
        "print(x+y)"
      ],
      "metadata": {
        "colab": {
          "base_uri": "https://localhost:8080/"
        },
        "id": "PACfBGWmkBCX",
        "outputId": "7077ee52-a258-4576-c779-199cc1384214"
      },
      "execution_count": null,
      "outputs": [
        {
          "output_type": "stream",
          "name": "stdout",
          "text": [
            "[20, 5.0, 'Manisha', 'orange', 10, 30, 3.0, 'Harender', 'cherry', 50]\n"
          ]
        }
      ]
    },
    {
      "cell_type": "code",
      "source": [
        "t2=(1)\n",
        "print(type(t2))"
      ],
      "metadata": {
        "colab": {
          "base_uri": "https://localhost:8080/"
        },
        "id": "1RyBX_zzdF7g",
        "outputId": "03478ff1-baba-4e47-9a77-3a9ac2ec91b4"
      },
      "execution_count": null,
      "outputs": [
        {
          "output_type": "stream",
          "name": "stdout",
          "text": [
            "<class 'int'>\n"
          ]
        }
      ]
    },
    {
      "cell_type": "code",
      "source": [
        "t2=(1,)\n",
        "print(type(t2))"
      ],
      "metadata": {
        "colab": {
          "base_uri": "https://localhost:8080/"
        },
        "id": "ywZ8UxM5dXET",
        "outputId": "2f55a500-e6a5-43f1-84b6-b6c504ae265f"
      },
      "execution_count": null,
      "outputs": [
        {
          "output_type": "stream",
          "name": "stdout",
          "text": [
            "<class 'tuple'>\n"
          ]
        }
      ]
    },
    {
      "cell_type": "code",
      "source": [
        "List1=(20,5.0,\"Manisha\",\"orange\",10)\n",
        "print(List1[1])"
      ],
      "metadata": {
        "colab": {
          "base_uri": "https://localhost:8080/"
        },
        "id": "JX76UsyyeFc0",
        "outputId": "2f4e1251-811f-41fb-cc82-2136007dd49e"
      },
      "execution_count": null,
      "outputs": [
        {
          "output_type": "stream",
          "name": "stdout",
          "text": [
            "5.0\n"
          ]
        }
      ]
    },
    {
      "cell_type": "code",
      "source": [
        "List1=(20,5.0,\"Manisha\",\"orange\",10)\n",
        "List1[3]"
      ],
      "metadata": {
        "colab": {
          "base_uri": "https://localhost:8080/",
          "height": 36
        },
        "id": "aXU-r2whhJWx",
        "outputId": "32863915-5390-43e7-c509-c4081b0e09c3"
      },
      "execution_count": null,
      "outputs": [
        {
          "output_type": "execute_result",
          "data": {
            "text/plain": [
              "'orange'"
            ],
            "application/vnd.google.colaboratory.intrinsic+json": {
              "type": "string"
            }
          },
          "metadata": {},
          "execution_count": 6
        }
      ]
    },
    {
      "cell_type": "code",
      "source": [
        "thistuple = (\"AAFT\", \"NIFT\", \"ATDC\")\n",
        "y = list(thistuple)\n",
        "y.append(\"UPSC\")\n",
        "thistuple = tuple(y)\n",
        "print(thistuple)"
      ],
      "metadata": {
        "colab": {
          "base_uri": "https://localhost:8080/"
        },
        "id": "5i2IqOTML7rz",
        "outputId": "34ef04a5-74d8-47be-a671-146b633eeb04"
      },
      "execution_count": null,
      "outputs": [
        {
          "output_type": "stream",
          "name": "stdout",
          "text": [
            "('AAFT', 'NIFT', 'ATDC', 'UPSC')\n"
          ]
        }
      ]
    },
    {
      "cell_type": "code",
      "source": [
        "thistuple = (\"AAFT\", \"NIFT\", \"ATDC\")\n",
        "y = list(thistuple)\n",
        "y.remove(\"NIFT\")\n",
        "thistuple = tuple(y)\n",
        "print(thistuple)"
      ],
      "metadata": {
        "colab": {
          "base_uri": "https://localhost:8080/"
        },
        "id": "OuA1Tw_UN23B",
        "outputId": "c9c1dd96-46bb-4172-fe0d-fd900e447dd5"
      },
      "execution_count": null,
      "outputs": [
        {
          "output_type": "stream",
          "name": "stdout",
          "text": [
            "('AAFT', 'ATDC')\n"
          ]
        }
      ]
    },
    {
      "cell_type": "code",
      "source": [
        "thistuple = (\"Manisha\",\"TBCG\",\"DELHI\")\n",
        "y = (\"AAFT\",)\n",
        "thistuple += y\n",
        "print(thistuple)"
      ],
      "metadata": {
        "colab": {
          "base_uri": "https://localhost:8080/"
        },
        "id": "S_L_UYgwOWhZ",
        "outputId": "6433d1f2-fe04-4d7b-ed71-191c3727292e"
      },
      "execution_count": null,
      "outputs": [
        {
          "output_type": "stream",
          "name": "stdout",
          "text": [
            "('Manisha', 'TBCG', 'DELHI', 'AAFT')\n"
          ]
        }
      ]
    },
    {
      "cell_type": "code",
      "source": [
        "College1 = (\"AAFT\", \"NIFT\", \"ATDC\")\n",
        "College2 = (\"UPSC\",\"IGNOU\")\n",
        "College3 = College1 + College2\n",
        "print(College3)\n"
      ],
      "metadata": {
        "colab": {
          "base_uri": "https://localhost:8080/"
        },
        "id": "NMRFmfCRPtuZ",
        "outputId": "c39f8d7c-46c2-4f82-8f15-572ec4f6f31d"
      },
      "execution_count": null,
      "outputs": [
        {
          "output_type": "stream",
          "name": "stdout",
          "text": [
            "('AAFT', 'NIFT', 'ATDC', 'UPSC', 'IGNOU')\n"
          ]
        }
      ]
    },
    {
      "cell_type": "code",
      "source": [
        "fruits = (\"apple\", \"banana\", \"cherry\")\n",
        "mytuple = fruits * 2\n",
        "\n",
        "print(mytuple)"
      ],
      "metadata": {
        "colab": {
          "base_uri": "https://localhost:8080/"
        },
        "id": "yTOOgOg7RnXX",
        "outputId": "948e6ce5-2f56-49bd-d104-ae27770a44cc"
      },
      "execution_count": null,
      "outputs": [
        {
          "output_type": "stream",
          "name": "stdout",
          "text": [
            "('apple', 'banana', 'cherry', 'apple', 'banana', 'cherry')\n"
          ]
        }
      ]
    },
    {
      "cell_type": "code",
      "source": [
        "thistuple = (1,2,3,3,4,5)\n",
        "x = thistuple.index(3)\n",
        "print(x)"
      ],
      "metadata": {
        "colab": {
          "base_uri": "https://localhost:8080/"
        },
        "id": "Lw0RAZ99SVOP",
        "outputId": "5a73f268-886e-4799-df48-5799b3624ed2"
      },
      "execution_count": null,
      "outputs": [
        {
          "output_type": "stream",
          "name": "stdout",
          "text": [
            "2\n"
          ]
        }
      ]
    },
    {
      "cell_type": "code",
      "source": [
        "thistuple = (1,2,3,3,3,4,5)\n",
        "x = thistuple.count(3)\n",
        "print(x)"
      ],
      "metadata": {
        "colab": {
          "base_uri": "https://localhost:8080/"
        },
        "id": "GqvU_y8DSrGG",
        "outputId": "bd72fef8-7157-4798-c1a7-da900e5876f8"
      },
      "execution_count": null,
      "outputs": [
        {
          "output_type": "stream",
          "name": "stdout",
          "text": [
            "3\n"
          ]
        }
      ]
    },
    {
      "cell_type": "code",
      "source": [
        "x = \"Hello World\"\n",
        "print(x)"
      ],
      "metadata": {
        "colab": {
          "base_uri": "https://localhost:8080/"
        },
        "id": "e-1ibobv3g79",
        "outputId": "cc029d44-b150-468b-99e2-90967257a326"
      },
      "execution_count": null,
      "outputs": [
        {
          "output_type": "stream",
          "name": "stdout",
          "text": [
            "Hello World\n"
          ]
        }
      ]
    },
    {
      "cell_type": "code",
      "source": [
        "y=\"\"\"Python is a programming language\"\n",
        "   It is case sensitive\n",
        "   It is very easy\"\"\"\n",
        "print(y)"
      ],
      "metadata": {
        "colab": {
          "base_uri": "https://localhost:8080/"
        },
        "id": "JeXzLpJQ3s8m",
        "outputId": "4c72974d-a90f-4e29-a122-11117186f38e"
      },
      "execution_count": null,
      "outputs": [
        {
          "output_type": "stream",
          "name": "stdout",
          "text": [
            "Python is a programming language\"\n",
            "   It is case sensitive\n",
            "   It is very easy\n"
          ]
        }
      ]
    },
    {
      "cell_type": "code",
      "source": [
        "print(\"Python is a programming language\")"
      ],
      "metadata": {
        "colab": {
          "base_uri": "https://localhost:8080/"
        },
        "id": "uyN3PTdX4Gz2",
        "outputId": "77c0ffb8-31f1-4418-9f37-e37490ec2829"
      },
      "execution_count": null,
      "outputs": [
        {
          "output_type": "stream",
          "name": "stdout",
          "text": [
            "Python is a programming language\n"
          ]
        }
      ]
    },
    {
      "cell_type": "code",
      "source": [
        "a = \"Hello, World!\"\n",
        "print(a[5])"
      ],
      "metadata": {
        "colab": {
          "base_uri": "https://localhost:8080/"
        },
        "id": "zFmozKRW6V4o",
        "outputId": "7341d2bb-cb01-4f0c-d6df-6d81d510cd74"
      },
      "execution_count": null,
      "outputs": [
        {
          "output_type": "stream",
          "name": "stdout",
          "text": [
            ",\n"
          ]
        }
      ]
    },
    {
      "cell_type": "code",
      "source": [
        "a = \"Hello, World!\"\n",
        "print(len(a))"
      ],
      "metadata": {
        "colab": {
          "base_uri": "https://localhost:8080/"
        },
        "id": "R4Av1otc7kmM",
        "outputId": "f6377f76-aeb9-4caa-a70a-006ba2f8d661"
      },
      "execution_count": null,
      "outputs": [
        {
          "output_type": "stream",
          "name": "stdout",
          "text": [
            "13\n"
          ]
        }
      ]
    },
    {
      "cell_type": "code",
      "source": [
        "txt = \"The best things in life are free!\"\n",
        "print(\"free\" in txt)"
      ],
      "metadata": {
        "colab": {
          "base_uri": "https://localhost:8080/"
        },
        "id": "VoRi5R5a8AuS",
        "outputId": "fff11b70-3a39-4f3a-b698-a18a00f29cf5"
      },
      "execution_count": null,
      "outputs": [
        {
          "output_type": "stream",
          "name": "stdout",
          "text": [
            "True\n"
          ]
        }
      ]
    },
    {
      "cell_type": "code",
      "source": [
        "a = \"Hello, World!\"\n",
        "print(a[7:13])"
      ],
      "metadata": {
        "colab": {
          "base_uri": "https://localhost:8080/"
        },
        "id": "NnfF5QiB-B3A",
        "outputId": "66fb08b9-23b3-4c9a-9322-660e6c685781"
      },
      "execution_count": null,
      "outputs": [
        {
          "output_type": "stream",
          "name": "stdout",
          "text": [
            "World!\n"
          ]
        }
      ]
    },
    {
      "cell_type": "code",
      "source": [
        "a = \"Hello, World!\"\n",
        "print(a[-5:-2])"
      ],
      "metadata": {
        "colab": {
          "base_uri": "https://localhost:8080/"
        },
        "id": "uA9oymmS_G0R",
        "outputId": "9965cc5e-3e65-4d94-91f5-4a31858917d5"
      },
      "execution_count": null,
      "outputs": [
        {
          "output_type": "stream",
          "name": "stdout",
          "text": [
            "orl\n"
          ]
        }
      ]
    },
    {
      "cell_type": "code",
      "source": [
        "a = \"Hello, World!\"\n",
        "print(a.upper())"
      ],
      "metadata": {
        "colab": {
          "base_uri": "https://localhost:8080/"
        },
        "id": "Dv2CihGFACNP",
        "outputId": "16392031-e829-4790-f2eb-71de2359573e"
      },
      "execution_count": null,
      "outputs": [
        {
          "output_type": "stream",
          "name": "stdout",
          "text": [
            "HELLO, WORLD!\n"
          ]
        }
      ]
    },
    {
      "cell_type": "code",
      "source": [
        "a = \"      Hello, World!           \"\n",
        "print(a.strip())"
      ],
      "metadata": {
        "colab": {
          "base_uri": "https://localhost:8080/"
        },
        "id": "EkOgnvHSAtEK",
        "outputId": "e6107713-14bd-492c-8a0c-ddc85422c054"
      },
      "execution_count": null,
      "outputs": [
        {
          "output_type": "stream",
          "name": "stdout",
          "text": [
            "Hello, World!\n"
          ]
        }
      ]
    },
    {
      "cell_type": "code",
      "source": [
        "a = \"Hi Hello, World!\"\n",
        "print(a.replace(\"H\", \"J\"))"
      ],
      "metadata": {
        "colab": {
          "base_uri": "https://localhost:8080/"
        },
        "id": "79eG_dyGBeR3",
        "outputId": "079edbb0-3a11-4fc5-ccfd-1dc525d80a2d"
      },
      "execution_count": null,
      "outputs": [
        {
          "output_type": "stream",
          "name": "stdout",
          "text": [
            "Ji Jello, World!\n"
          ]
        }
      ]
    },
    {
      "cell_type": "code",
      "source": [
        "a = \"Welcome\"\n",
        "b = \"Students\"\n",
        "c = a+b\n",
        "print(c)"
      ],
      "metadata": {
        "colab": {
          "base_uri": "https://localhost:8080/"
        },
        "id": "YmWtW4GhfPuH",
        "outputId": "9cb33f22-43cd-4ac3-b1fe-b11266117430"
      },
      "execution_count": null,
      "outputs": [
        {
          "output_type": "stream",
          "name": "stdout",
          "text": [
            "WelcomeStudents\n"
          ]
        }
      ]
    },
    {
      "cell_type": "code",
      "source": [
        "a = \"Welcome\"\n",
        "b = \"Students\"\n",
        "c = a + \" \" + b\n",
        "print(c)"
      ],
      "metadata": {
        "colab": {
          "base_uri": "https://localhost:8080/"
        },
        "id": "Jlo-FBhTfmLq",
        "outputId": "bab0e182-d869-4e00-c608-95a54fe10ffc"
      },
      "execution_count": null,
      "outputs": [
        {
          "output_type": "stream",
          "name": "stdout",
          "text": [
            "Welcome Students\n"
          ]
        }
      ]
    },
    {
      "cell_type": "code",
      "source": [
        "age = 36\n",
        "txt = f\"My name is John, I am {age}\"\n",
        "print(txt)"
      ],
      "metadata": {
        "colab": {
          "base_uri": "https://localhost:8080/"
        },
        "id": "CajCTuUTgWtI",
        "outputId": "11b4e15f-3628-4453-9304-14cb2c3f16c8"
      },
      "execution_count": null,
      "outputs": [
        {
          "output_type": "stream",
          "name": "stdout",
          "text": [
            "My name is John, I am 36\n"
          ]
        }
      ]
    },
    {
      "cell_type": "code",
      "source": [
        "price = 59\n",
        "txt = f\"The price is {price} dollars\"\n",
        "print(txt)"
      ],
      "metadata": {
        "colab": {
          "base_uri": "https://localhost:8080/"
        },
        "id": "3IiH015AibJ5",
        "outputId": "1d094ccd-b259-40fc-e049-c993c886131a"
      },
      "execution_count": null,
      "outputs": [
        {
          "output_type": "stream",
          "name": "stdout",
          "text": [
            "The price is 59 dollars\n"
          ]
        }
      ]
    },
    {
      "cell_type": "code",
      "source": [
        "#Display the price with 2 decimals:\n",
        "price = 59\n",
        "txt = f\"The price is {price:.2f} dollars\"\n",
        "print(txt)"
      ],
      "metadata": {
        "colab": {
          "base_uri": "https://localhost:8080/"
        },
        "id": "TkdUKbf3igA2",
        "outputId": "6943c3f7-763e-460d-fe24-87195d29c4bc"
      },
      "execution_count": null,
      "outputs": [
        {
          "output_type": "stream",
          "name": "stdout",
          "text": [
            "The price is 59.00 dollars\n"
          ]
        }
      ]
    },
    {
      "cell_type": "code",
      "source": [
        "txt = \"hello and welcome to my world!\"\n",
        "x = txt.capitalize()\n",
        "print(x)"
      ],
      "metadata": {
        "colab": {
          "base_uri": "https://localhost:8080/"
        },
        "id": "Yl7GaH6OkvmK",
        "outputId": "2595b98b-fd58-4a76-8ffa-39cacec2cda5"
      },
      "execution_count": null,
      "outputs": [
        {
          "output_type": "stream",
          "name": "stdout",
          "text": [
            "Hello and welcome to my world!\n"
          ]
        }
      ]
    },
    {
      "cell_type": "code",
      "source": [
        "txt = \"Welcome to my world\"\n",
        "x =  txt.title()\n",
        "print(x)"
      ],
      "metadata": {
        "colab": {
          "base_uri": "https://localhost:8080/"
        },
        "id": "ywlJ12b7liAL",
        "outputId": "2a103cbf-469d-4c15-9107-1a1c33310e6e"
      },
      "execution_count": null,
      "outputs": [
        {
          "output_type": "stream",
          "name": "stdout",
          "text": [
            "Welcome To My World\n"
          ]
        }
      ]
    },
    {
      "cell_type": "code",
      "source": [
        "txt = \"I love apples, apple are my favorite fruit\"\n",
        "x = txt.count(\"apple\")\n",
        "print(x)"
      ],
      "metadata": {
        "colab": {
          "base_uri": "https://localhost:8080/"
        },
        "id": "nZFWjfgelzXp",
        "outputId": "ecced60f-b407-4d5f-8033-a23b6a05c973"
      },
      "execution_count": null,
      "outputs": [
        {
          "output_type": "stream",
          "name": "stdout",
          "text": [
            "2\n"
          ]
        }
      ]
    },
    {
      "cell_type": "code",
      "source": [
        "txt = \"I love apples, apple are my favorite fruit\"\n",
        "x = txt.count(\"apple\", 10, 24)\n",
        "print(x)"
      ],
      "metadata": {
        "colab": {
          "base_uri": "https://localhost:8080/"
        },
        "id": "IpheQDZ4nMIF",
        "outputId": "8645490a-7f9f-4501-d177-009bf05177e9"
      },
      "execution_count": null,
      "outputs": [
        {
          "output_type": "stream",
          "name": "stdout",
          "text": [
            "1\n"
          ]
        }
      ]
    },
    {
      "cell_type": "code",
      "source": [
        "txt = \"I love apples, apple are my favorite fruit\"\n",
        "x = txt.find(\"are\")\n",
        "print(x)"
      ],
      "metadata": {
        "id": "b47VQ2nVpKNP",
        "outputId": "215491fa-89c3-46c8-e8d3-5be39e110b01",
        "colab": {
          "base_uri": "https://localhost:8080/"
        }
      },
      "execution_count": null,
      "outputs": [
        {
          "output_type": "stream",
          "name": "stdout",
          "text": [
            "21\n"
          ]
        }
      ]
    },
    {
      "cell_type": "code",
      "source": [
        "thisset = {\"apple\", \"banana\", \"cherry\", True, 1, 2}\n",
        "\n",
        "print(thisset)"
      ],
      "metadata": {
        "colab": {
          "base_uri": "https://localhost:8080/"
        },
        "id": "zAN8CuG_QaA1",
        "outputId": "d77708dd-8013-46fc-a9db-aa0cd8fba019"
      },
      "execution_count": null,
      "outputs": [
        {
          "output_type": "stream",
          "name": "stdout",
          "text": [
            "{True, 2, 'cherry', 'apple', 'banana'}\n"
          ]
        }
      ]
    },
    {
      "cell_type": "code",
      "source": [
        "set1={1,2,3,4,5,6}\n",
        "print(set1)"
      ],
      "metadata": {
        "colab": {
          "base_uri": "https://localhost:8080/"
        },
        "id": "8iA-I2jpQ0Yd",
        "outputId": "d088ee47-90b5-4de3-d266-762761273fe2"
      },
      "execution_count": null,
      "outputs": [
        {
          "output_type": "stream",
          "name": "stdout",
          "text": [
            "{1, 2, 3, 4, 5, 6}\n"
          ]
        }
      ]
    },
    {
      "cell_type": "code",
      "source": [
        "set2={1,1,1,2,2,3,3,4,5,6}\n",
        "print(set2)"
      ],
      "metadata": {
        "colab": {
          "base_uri": "https://localhost:8080/"
        },
        "id": "oCG9LkT5RAbe",
        "outputId": "b0ad8f9d-0392-4c42-acf3-890d7e65eb28"
      },
      "execution_count": null,
      "outputs": [
        {
          "output_type": "stream",
          "name": "stdout",
          "text": [
            "{1, 2, 3, 4, 5, 6}\n"
          ]
        }
      ]
    },
    {
      "cell_type": "code",
      "source": [
        "set3={'A','B','C','D'}\n",
        "print(set3)"
      ],
      "metadata": {
        "colab": {
          "base_uri": "https://localhost:8080/"
        },
        "id": "M6rt8DjxROf9",
        "outputId": "04cec72a-37c6-448d-8648-f03701992678"
      },
      "execution_count": null,
      "outputs": [
        {
          "output_type": "stream",
          "name": "stdout",
          "text": [
            "{'A', 'C', 'D', 'B'}\n"
          ]
        }
      ]
    },
    {
      "cell_type": "code",
      "source": [
        "set4={'A',1,'B',2,'C',3,True}\n",
        "print(set4)"
      ],
      "metadata": {
        "colab": {
          "base_uri": "https://localhost:8080/"
        },
        "id": "00oy2ZkTRi-K",
        "outputId": "d127a6df-c119-4c4b-9f72-d1e46f0855cd"
      },
      "execution_count": null,
      "outputs": [
        {
          "output_type": "stream",
          "name": "stdout",
          "text": [
            "{1, 2, 3, 'A', 'C', 'B'}\n"
          ]
        }
      ]
    },
    {
      "cell_type": "code",
      "source": [
        "thisset = {\"apple\", \"banana\", \"cherry\"}\n",
        "print(\"banana\" in thisset)"
      ],
      "metadata": {
        "colab": {
          "base_uri": "https://localhost:8080/"
        },
        "id": "qkH03Yi8R8Js",
        "outputId": "bda23775-c659-4f41-cd2b-8c543fcb8cdf"
      },
      "execution_count": null,
      "outputs": [
        {
          "output_type": "stream",
          "name": "stdout",
          "text": [
            "True\n"
          ]
        }
      ]
    },
    {
      "cell_type": "code",
      "source": [
        "thisset = {\"apple\", \"banana\", \"cherry\"}\n",
        "print(\"banana\" not in thisset)"
      ],
      "metadata": {
        "colab": {
          "base_uri": "https://localhost:8080/"
        },
        "id": "a2Dr5DwbSBEJ",
        "outputId": "46c51ca5-2526-41d8-8ecd-fb2e3f9ec8eb"
      },
      "execution_count": null,
      "outputs": [
        {
          "output_type": "stream",
          "name": "stdout",
          "text": [
            "False\n"
          ]
        }
      ]
    },
    {
      "cell_type": "code",
      "source": [
        "thisset = {\"apple\", \"banana\", \"cherry\"}\n",
        "thisset.add(\"orange\")\n",
        "print(thisset)"
      ],
      "metadata": {
        "colab": {
          "base_uri": "https://localhost:8080/"
        },
        "id": "mo2ou6H8TViU",
        "outputId": "09ca7b7e-fa25-49e1-9cac-0bee57e83cf4"
      },
      "execution_count": null,
      "outputs": [
        {
          "output_type": "stream",
          "name": "stdout",
          "text": [
            "{'banana', 'cherry', 'orange', 'apple'}\n"
          ]
        }
      ]
    },
    {
      "cell_type": "code",
      "source": [
        "thisset = {\"apple\",\"banana\",\"cherry\"}\n",
        "tropical = {\"pineapple\",\"mango\",\"papaya\"}\n",
        "thisset.update(tropical)\n",
        "print(thisset)"
      ],
      "metadata": {
        "colab": {
          "base_uri": "https://localhost:8080/"
        },
        "id": "NYljqd6mTpMm",
        "outputId": "ca82c121-bade-470e-8310-50cb5ed921d2"
      },
      "execution_count": null,
      "outputs": [
        {
          "output_type": "stream",
          "name": "stdout",
          "text": [
            "{'papaya', 'cherry', 'apple', 'pineapple', 'mango', 'banana'}\n"
          ]
        }
      ]
    },
    {
      "cell_type": "code",
      "source": [
        "thisset = {\"apple\", \"banana\", \"cherry\"}\n",
        "mylist = [\"kiwi\", \"orange\"]\n",
        "\n",
        "thisset.update(mylist)\n",
        "\n",
        "print(thisset)"
      ],
      "metadata": {
        "colab": {
          "base_uri": "https://localhost:8080/"
        },
        "id": "KC4XeObdUUp8",
        "outputId": "e99f193e-3d31-4948-c092-6de8db4e28f1"
      },
      "execution_count": null,
      "outputs": [
        {
          "output_type": "stream",
          "name": "stdout",
          "text": [
            "{'cherry', 'orange', 'apple', 'kiwi', 'banana'}\n"
          ]
        }
      ]
    },
    {
      "cell_type": "code",
      "source": [
        "thisset = {\"apple\", \"banana\", \"cherry\"}\n",
        "\n",
        "thisset.remove(\"banana\")\n",
        "\n",
        "print(thisset)"
      ],
      "metadata": {
        "colab": {
          "base_uri": "https://localhost:8080/"
        },
        "id": "m_kfjXEhVG1i",
        "outputId": "b67c70d3-534d-4148-8447-584409f8ac09"
      },
      "execution_count": null,
      "outputs": [
        {
          "output_type": "stream",
          "name": "stdout",
          "text": [
            "{'cherry', 'apple'}\n"
          ]
        }
      ]
    },
    {
      "cell_type": "code",
      "source": [
        "thisset = {\"apple\", \"banana\", \"cherry\"}\n",
        "\n",
        "thisset.discard(\"banana\")\n",
        "\n",
        "print(thisset)"
      ],
      "metadata": {
        "colab": {
          "base_uri": "https://localhost:8080/"
        },
        "id": "5GOydDmnVywQ",
        "outputId": "a2789d08-cd23-4bbf-f15e-6540b53e1648"
      },
      "execution_count": null,
      "outputs": [
        {
          "output_type": "stream",
          "name": "stdout",
          "text": [
            "{'cherry', 'apple'}\n"
          ]
        }
      ]
    },
    {
      "cell_type": "code",
      "source": [
        "thisset = {\"apple\", \"banana\", \"cherry\"}\n",
        "\n",
        "x = thisset.pop()\n",
        "\n",
        "print(x)\n",
        "\n",
        "print(thisset)"
      ],
      "metadata": {
        "colab": {
          "base_uri": "https://localhost:8080/"
        },
        "id": "aj7AAr1HV6G8",
        "outputId": "9950460a-5c6b-40cc-8cd0-f73b564c7e5c"
      },
      "execution_count": null,
      "outputs": [
        {
          "output_type": "stream",
          "name": "stdout",
          "text": [
            "banana\n",
            "{'cherry', 'apple'}\n"
          ]
        }
      ]
    },
    {
      "cell_type": "code",
      "source": [
        "thisset = {\"apple\",\"banana\",\"cherry\"}\n",
        "thisset.clear()\n",
        "print(thisset)"
      ],
      "metadata": {
        "colab": {
          "base_uri": "https://localhost:8080/"
        },
        "id": "tV_icGGpWKwP",
        "outputId": "6d4526f7-5d70-452c-d3b3-e8bfb171c242"
      },
      "execution_count": null,
      "outputs": [
        {
          "output_type": "stream",
          "name": "stdout",
          "text": [
            "set()\n"
          ]
        }
      ]
    },
    {
      "cell_type": "code",
      "source": [
        "thisset = {\"apple\", \"banana\", \"cherry\"}\n",
        "\n",
        "del thisset\n",
        "\n",
        "print(thisset)"
      ],
      "metadata": {
        "colab": {
          "base_uri": "https://localhost:8080/",
          "height": 176
        },
        "id": "OBBPd1h8Wk-u",
        "outputId": "5c708ca7-14d8-432b-f80b-8d421bc6632f"
      },
      "execution_count": null,
      "outputs": [
        {
          "output_type": "error",
          "ename": "NameError",
          "evalue": "name 'thisset' is not defined",
          "traceback": [
            "\u001b[0;31m---------------------------------------------------------------------------\u001b[0m",
            "\u001b[0;31mNameError\u001b[0m                                 Traceback (most recent call last)",
            "\u001b[0;32m<ipython-input-17-b0ed94c1bb6f>\u001b[0m in \u001b[0;36m<cell line: 5>\u001b[0;34m()\u001b[0m\n\u001b[1;32m      3\u001b[0m \u001b[0;32mdel\u001b[0m \u001b[0mthisset\u001b[0m\u001b[0;34m\u001b[0m\u001b[0;34m\u001b[0m\u001b[0m\n\u001b[1;32m      4\u001b[0m \u001b[0;34m\u001b[0m\u001b[0m\n\u001b[0;32m----> 5\u001b[0;31m \u001b[0mprint\u001b[0m\u001b[0;34m(\u001b[0m\u001b[0mthisset\u001b[0m\u001b[0;34m)\u001b[0m\u001b[0;34m\u001b[0m\u001b[0;34m\u001b[0m\u001b[0m\n\u001b[0m",
            "\u001b[0;31mNameError\u001b[0m: name 'thisset' is not defined"
          ]
        }
      ]
    },
    {
      "cell_type": "code",
      "source": [
        "set1 = {\"a\", \"b\", \"c\"}\n",
        "set2 = {1, 2, 3}\n",
        "\n",
        "set3 = set1.union(set2)\n",
        "print(set3)"
      ],
      "metadata": {
        "colab": {
          "base_uri": "https://localhost:8080/"
        },
        "id": "xMPjYZIhXKqT",
        "outputId": "2e90f0e8-74ce-4f78-f17a-603cd5b0cadb"
      },
      "execution_count": null,
      "outputs": [
        {
          "output_type": "stream",
          "name": "stdout",
          "text": [
            "{'a', 1, 2, 3, 'b', 'c'}\n"
          ]
        }
      ]
    },
    {
      "cell_type": "code",
      "source": [
        "set1 = {\"a\", \"b\", \"c\"}\n",
        "set2 = {1, 2, 3}\n",
        "\n",
        "set3 = set1 | set2\n",
        "print(set3)"
      ],
      "metadata": {
        "colab": {
          "base_uri": "https://localhost:8080/"
        },
        "id": "XFMkcUBBXdsW",
        "outputId": "d37931d4-aaf9-421e-e819-2e5a8964d29a"
      },
      "execution_count": null,
      "outputs": [
        {
          "output_type": "stream",
          "name": "stdout",
          "text": [
            "{'a', 1, 2, 3, 'b', 'c'}\n"
          ]
        }
      ]
    },
    {
      "cell_type": "code",
      "source": [
        "set1 = {\"a\", \"b\", \"c\"}\n",
        "set2 = {1, 2, 3}\n",
        "set3 = {\"John\", \"Elena\"}\n",
        "set4 = {\"apple\", \"bananas\", \"cherry\"}\n",
        "\n",
        "myset = set1 | set2 | set3 |set4\n",
        "print(myset)"
      ],
      "metadata": {
        "colab": {
          "base_uri": "https://localhost:8080/"
        },
        "id": "XZvDrH7sZQVB",
        "outputId": "4e569390-dfd6-4bdc-95ba-f8c80479425d"
      },
      "execution_count": null,
      "outputs": [
        {
          "output_type": "stream",
          "name": "stdout",
          "text": [
            "{'a', 1, 2, 3, 'cherry', 'Elena', 'apple', 'c', 'b', 'John', 'bananas'}\n"
          ]
        }
      ]
    },
    {
      "cell_type": "code",
      "source": [
        "set1 = {\"apple\", \"banana\", \"cherry\"}\n",
        "set2 = {\"google\", \"microsoft\", \"apple\"}\n",
        "\n",
        "set3 = set1.intersection(set2)\n",
        "print(set3)"
      ],
      "metadata": {
        "colab": {
          "base_uri": "https://localhost:8080/"
        },
        "id": "xKw4FSJH7jY-",
        "outputId": "daa00e3e-563e-42eb-bfce-14168da3e1f0"
      },
      "execution_count": null,
      "outputs": [
        {
          "output_type": "stream",
          "name": "stdout",
          "text": [
            "{'apple'}\n"
          ]
        }
      ]
    },
    {
      "cell_type": "code",
      "source": [
        "set1 = {\"apple\", \"banana\", \"cherry\"}\n",
        "set2 = {\"google\", \"microsoft\", \"apple\"}\n",
        "\n",
        "set3 = set1 & set2\n",
        "print(set3)"
      ],
      "metadata": {
        "colab": {
          "base_uri": "https://localhost:8080/"
        },
        "id": "eys6eUEf7ylx",
        "outputId": "e9f2af18-3ab4-4d70-ef60-49d2837a3694"
      },
      "execution_count": null,
      "outputs": [
        {
          "output_type": "stream",
          "name": "stdout",
          "text": [
            "{'apple'}\n"
          ]
        }
      ]
    },
    {
      "cell_type": "code",
      "source": [
        "set1 = {\"apple\", \"banana\", \"cherry\"}\n",
        "set2 = {\"google\", \"microsoft\", \"apple\"}\n",
        "\n",
        "set3 = set1.difference(set2)\n",
        "\n",
        "print(set3)"
      ],
      "metadata": {
        "colab": {
          "base_uri": "https://localhost:8080/"
        },
        "id": "6SJDokpa9JHK",
        "outputId": "530e73fc-3ca3-4d16-dc84-9b0f59d2e6f7"
      },
      "execution_count": null,
      "outputs": [
        {
          "output_type": "stream",
          "name": "stdout",
          "text": [
            "{'banana', 'cherry'}\n"
          ]
        }
      ]
    },
    {
      "cell_type": "code",
      "source": [
        "set1 = {\"apple\", \"banana\", \"cherry\"}\n",
        "set2 = {\"google\", \"microsoft\", \"apple\"}\n",
        "\n",
        "set3 = set1 - set2\n",
        "print(set3)"
      ],
      "metadata": {
        "colab": {
          "base_uri": "https://localhost:8080/"
        },
        "id": "mFYREuji9fTN",
        "outputId": "c51ab390-0bd8-4e5e-a9ff-46f8db33ecbc"
      },
      "execution_count": null,
      "outputs": [
        {
          "output_type": "stream",
          "name": "stdout",
          "text": [
            "{'banana', 'cherry'}\n"
          ]
        }
      ]
    },
    {
      "cell_type": "code",
      "source": [
        "set1 = {\"apple\", \"banana\", \"cherry\"}\n",
        "set2 = {\"google\", \"microsoft\", \"apple\"}\n",
        "\n",
        "set3 = set2.difference(set1)\n",
        "\n",
        "print(set3)"
      ],
      "metadata": {
        "colab": {
          "base_uri": "https://localhost:8080/"
        },
        "id": "zARdKQWX9g_z",
        "outputId": "765eafac-6bff-4f9e-f5b5-dd5de6a4dc3f"
      },
      "execution_count": null,
      "outputs": [
        {
          "output_type": "stream",
          "name": "stdout",
          "text": [
            "{'google', 'microsoft'}\n"
          ]
        }
      ]
    },
    {
      "cell_type": "code",
      "source": [
        "setx = {\"Smith\", \"John\", \"Bush\", \"Clinten\"}\n",
        "sety = {6,7,8,9, \"Smith\", \"Bush\", \"Obama\"}\n",
        "\n",
        "setxy = sety.difference(setx)\n",
        "\n",
        "print(setxy)"
      ],
      "metadata": {
        "colab": {
          "base_uri": "https://localhost:8080/"
        },
        "id": "RmjbdycY_Wjy",
        "outputId": "ad2883a2-d074-4618-98b4-0e9a421d19c1"
      },
      "execution_count": null,
      "outputs": [
        {
          "output_type": "stream",
          "name": "stdout",
          "text": [
            "{6, 7, 8, 9, 'Obama'}\n"
          ]
        }
      ]
    },
    {
      "cell_type": "code",
      "source": [
        "setx = {\"Smith\", \"John\", \"Bush\", \"Clinten\"}\n",
        "sety = {6,7,8,9, \"Smith\", \"Bush\", \"Obama\"}\n",
        "\n",
        "setxy = setx.difference(sety)\n",
        "\n",
        "print(setxy)"
      ],
      "metadata": {
        "colab": {
          "base_uri": "https://localhost:8080/"
        },
        "id": "ckPV7YxrAEv8",
        "outputId": "6c3e9add-936f-4d89-921a-dfe2169d5503"
      },
      "execution_count": null,
      "outputs": [
        {
          "output_type": "stream",
          "name": "stdout",
          "text": [
            "{'Clinten', 'John'}\n"
          ]
        }
      ]
    },
    {
      "cell_type": "code",
      "source": [
        "setx = {\"Smith\", \"John\", \"Bush\", \"Clinten\"}\n",
        "sety = {6,7,8,9, \"Smith\", \"Bush\", \"Obama\"}\n",
        "\n",
        "setxy = setx.intersection(sety)\n",
        "\n",
        "print(setxy)"
      ],
      "metadata": {
        "colab": {
          "base_uri": "https://localhost:8080/"
        },
        "id": "sFsCKgjzAJy3",
        "outputId": "5219eeeb-4384-4174-b153-efd902fdf6a2"
      },
      "execution_count": null,
      "outputs": [
        {
          "output_type": "stream",
          "name": "stdout",
          "text": [
            "{'Bush', 'Smith'}\n"
          ]
        }
      ]
    },
    {
      "cell_type": "code",
      "source": [
        "car_dict={\"Brand\":\"BMW\", \"Model\":\"IX\", \"Year\":1964}\n",
        "print(car_dict)"
      ],
      "metadata": {
        "colab": {
          "base_uri": "https://localhost:8080/"
        },
        "id": "nHdh5Jfi0Q6u",
        "outputId": "dc5948d2-8d8b-40c9-f2df-29ce4497fc88"
      },
      "execution_count": null,
      "outputs": [
        {
          "output_type": "stream",
          "name": "stdout",
          "text": [
            "{'Brand': 'BMW', 'Model': 'IX', 'Year': 1964}\n"
          ]
        }
      ]
    },
    {
      "cell_type": "code",
      "source": [
        "#Accessing Dictionary elements\n",
        "print(car_dict[\"Brand\"])"
      ],
      "metadata": {
        "colab": {
          "base_uri": "https://localhost:8080/"
        },
        "id": "ShAV5T5U1TcO",
        "outputId": "b3886ad9-9943-4b6f-93b0-b73b5772bd68"
      },
      "execution_count": null,
      "outputs": [
        {
          "output_type": "stream",
          "name": "stdout",
          "text": [
            "BMW\n"
          ]
        }
      ]
    },
    {
      "cell_type": "code",
      "source": [
        "#Length of Dictionary\n",
        "print(len(car_dict))"
      ],
      "metadata": {
        "colab": {
          "base_uri": "https://localhost:8080/"
        },
        "id": "7mh9RkpP1jzy",
        "outputId": "53952d00-dd39-4ddc-c1c0-dd9f4155c5d8"
      },
      "execution_count": null,
      "outputs": [
        {
          "output_type": "stream",
          "name": "stdout",
          "text": [
            "3\n"
          ]
        }
      ]
    },
    {
      "cell_type": "code",
      "source": [
        "#Type of Data\n",
        "print(type(car_dict))"
      ],
      "metadata": {
        "colab": {
          "base_uri": "https://localhost:8080/"
        },
        "id": "pmbTd9JT1rzs",
        "outputId": "12881ed6-d842-4597-fcd1-b1229be6264f"
      },
      "execution_count": null,
      "outputs": [
        {
          "output_type": "stream",
          "name": "stdout",
          "text": [
            "<class 'dict'>\n"
          ]
        }
      ]
    },
    {
      "cell_type": "code",
      "source": [
        "#For Duplicate Keys\n",
        "car_dict2={\"Brand\":\"BMW\", \"Model\":\"IX\", \"Year\":1964, \"Year\":2000}\n",
        "print(car_dict2)"
      ],
      "metadata": {
        "colab": {
          "base_uri": "https://localhost:8080/"
        },
        "id": "ksn_jiHl2B1n",
        "outputId": "ac825273-21a5-4711-fb13-d604140e2e34"
      },
      "execution_count": null,
      "outputs": [
        {
          "output_type": "stream",
          "name": "stdout",
          "text": [
            "{'Brand': 'BMW', 'Model': 'IX', 'Year': 2000}\n"
          ]
        }
      ]
    },
    {
      "cell_type": "code",
      "source": [
        "car_dict3={\"Brand\":\"BMW\", \"Model\":\"IX\", \"Year\":1964, \"Year\":2000, \"Year\":2013}\n",
        "print(car_dict3)"
      ],
      "metadata": {
        "colab": {
          "base_uri": "https://localhost:8080/"
        },
        "id": "PvRk9jNH2lNZ",
        "outputId": "e9586246-451e-4ace-b257-d70e177d5a4a"
      },
      "execution_count": null,
      "outputs": [
        {
          "output_type": "stream",
          "name": "stdout",
          "text": [
            "{'Brand': 'BMW', 'Model': 'IX', 'Year': 2013}\n"
          ]
        }
      ]
    },
    {
      "cell_type": "code",
      "source": [
        "#For Accessing Dict items\n",
        "x=car_dict.get(\"Model\")\n",
        "print(x)"
      ],
      "metadata": {
        "colab": {
          "base_uri": "https://localhost:8080/"
        },
        "id": "tKu2J6yp25L0",
        "outputId": "4e35b144-75d3-4fe9-941f-9a2718ec4fbf"
      },
      "execution_count": null,
      "outputs": [
        {
          "output_type": "stream",
          "name": "stdout",
          "text": [
            "IX\n"
          ]
        }
      ]
    },
    {
      "cell_type": "code",
      "source": [
        "#The keys() methor will return a list of all the keys in the dictionary.\n",
        "car_dict.keys()"
      ],
      "metadata": {
        "colab": {
          "base_uri": "https://localhost:8080/"
        },
        "id": "fnTrHn1_3hI-",
        "outputId": "cf9725b5-f900-4694-90c3-a61728f507c6"
      },
      "execution_count": null,
      "outputs": [
        {
          "output_type": "execute_result",
          "data": {
            "text/plain": [
              "dict_keys(['Brand', 'Model', 'Year'])"
            ]
          },
          "metadata": {},
          "execution_count": 13
        }
      ]
    },
    {
      "cell_type": "code",
      "source": [
        "#The values() method will return a list of all the values in the dictionary.\n",
        "car_dict.values()"
      ],
      "metadata": {
        "colab": {
          "base_uri": "https://localhost:8080/"
        },
        "id": "sk92Vklm32bN",
        "outputId": "92db8357-87c0-4884-b19a-c9d9eeeabc1d"
      },
      "execution_count": null,
      "outputs": [
        {
          "output_type": "execute_result",
          "data": {
            "text/plain": [
              "dict_values(['BMW', 'IX', 1964])"
            ]
          },
          "metadata": {},
          "execution_count": 14
        }
      ]
    },
    {
      "cell_type": "code",
      "source": [
        "#To change values of Dictionary\n",
        "car_dict[\"Year\"]=2024\n",
        "print(car_dict)"
      ],
      "metadata": {
        "colab": {
          "base_uri": "https://localhost:8080/"
        },
        "id": "R_TiHj2u4C7N",
        "outputId": "5245f9c3-52ff-416b-bd7c-30d168200d05"
      },
      "execution_count": null,
      "outputs": [
        {
          "output_type": "stream",
          "name": "stdout",
          "text": [
            "{'Brand': 'BMW', 'Model': 'IX', 'Year': 2024}\n"
          ]
        }
      ]
    },
    {
      "cell_type": "code",
      "source": [
        "#To add new key:value in dictionary\n",
        "car_dict[\"Color\"]=\"White\"\n",
        "print(car_dict)"
      ],
      "metadata": {
        "colab": {
          "base_uri": "https://localhost:8080/"
        },
        "id": "fwBVrql740LD",
        "outputId": "4853143f-20d6-462f-d210-ff01f1507a2d"
      },
      "execution_count": null,
      "outputs": [
        {
          "output_type": "stream",
          "name": "stdout",
          "text": [
            "{'Brand': 'BMW', 'Model': 'IX', 'Year': 2024, 'Color': 'White'}\n"
          ]
        }
      ]
    },
    {
      "cell_type": "code",
      "source": [
        "#The values in dictionary items can be of any data type.\n",
        "d3={\"Name\":\"A\", \"Year\":2023, \"Pass\":True, \"Marks\":[50,60,70]}\n",
        "print(d3)"
      ],
      "metadata": {
        "colab": {
          "base_uri": "https://localhost:8080/"
        },
        "id": "0a2I012d4-Gl",
        "outputId": "c6865e08-b5bd-4769-b8a1-3e735b6d31a9"
      },
      "execution_count": null,
      "outputs": [
        {
          "output_type": "stream",
          "name": "stdout",
          "text": [
            "{'Name': 'A', 'Year': 2023, 'Pass': True, 'Marks': [50, 60, 70]}\n"
          ]
        }
      ]
    },
    {
      "cell_type": "code",
      "source": [
        "d3.update({\"Year\":2024})\n",
        "print(d3)"
      ],
      "metadata": {
        "colab": {
          "base_uri": "https://localhost:8080/"
        },
        "id": "2qryanEf6AY0",
        "outputId": "5f4aa659-398a-4d9c-aa47-de9506701494"
      },
      "execution_count": null,
      "outputs": [
        {
          "output_type": "stream",
          "name": "stdout",
          "text": [
            "{'Name': 'A', 'Year': 2024, 'Pass': True, 'Marks': [50, 60, 70]}\n"
          ]
        }
      ]
    },
    {
      "cell_type": "code",
      "source": [
        "d3[\"Phone_no\"]=94566\n",
        "print(d3)"
      ],
      "metadata": {
        "colab": {
          "base_uri": "https://localhost:8080/"
        },
        "id": "FwoJf3O-6SNp",
        "outputId": "a389c6d4-028b-41d6-def3-558ac4dcc61f"
      },
      "execution_count": null,
      "outputs": [
        {
          "output_type": "stream",
          "name": "stdout",
          "text": [
            "{'Name': 'A', 'Year': 2023, 'Pass': True, 'Marks': [50, 60, 70], 'Phone_no': 94566}\n"
          ]
        }
      ]
    },
    {
      "cell_type": "code",
      "source": [
        "{\"Name\":\"Manisha\",\n",
        " \"Year\":2024,\n",
        " \"Pass\":True,\n",
        " \"Phone_no\":94566}"
      ],
      "metadata": {
        "colab": {
          "base_uri": "https://localhost:8080/"
        },
        "id": "E5fuDIjj6b5J",
        "outputId": "ecfe452c-9ab6-4331-81d4-2d5bdde20d70"
      },
      "execution_count": null,
      "outputs": [
        {
          "output_type": "execute_result",
          "data": {
            "text/plain": [
              "{'Name': 'Manisha', 'Year': 2024, 'Pass': True, 'Phone_no': 94566}"
            ]
          },
          "metadata": {},
          "execution_count": 3
        }
      ]
    },
    {
      "cell_type": "code",
      "source": [
        "d3.update({\"Email\":\"asdf@gmail.com\"})\n",
        "print(d3)"
      ],
      "metadata": {
        "colab": {
          "base_uri": "https://localhost:8080/"
        },
        "id": "DC6UAGXN9U1Q",
        "outputId": "8b2c2958-79fd-4c32-94bd-7fe89c21df7c"
      },
      "execution_count": null,
      "outputs": [
        {
          "output_type": "stream",
          "name": "stdout",
          "text": [
            "{'Name': 'A', 'Year': 2024, 'Pass': True, 'Marks': [50, 60, 70], 'Phone_no': 94566, 'Email': 'asdf@gmail.com'}\n"
          ]
        }
      ]
    },
    {
      "cell_type": "code",
      "source": [
        "#For Removing Dictionary items\n",
        "#The pop() method removes the item with the specified key name:\n",
        "d3.pop(\"Phone_no\")"
      ],
      "metadata": {
        "id": "hDcFM1Wz9jYT",
        "colab": {
          "base_uri": "https://localhost:8080/"
        },
        "outputId": "e1afcc09-f62e-4274-9818-11086860846a"
      },
      "execution_count": null,
      "outputs": [
        {
          "output_type": "execute_result",
          "data": {
            "text/plain": [
              "94566"
            ]
          },
          "metadata": {},
          "execution_count": 11
        }
      ]
    },
    {
      "cell_type": "code",
      "source": [
        "#The del keyword removes the item with the specified key name:\n",
        "del d3[\"Marks\"]\n",
        "print(d3)"
      ],
      "metadata": {
        "colab": {
          "base_uri": "https://localhost:8080/"
        },
        "id": "tQ84GTqG9tY6",
        "outputId": "b2b4ed4e-0f95-4e56-8f85-de38f0fe3bf2"
      },
      "execution_count": null,
      "outputs": [
        {
          "output_type": "stream",
          "name": "stdout",
          "text": [
            "{'Name': 'A', 'Year': 2023, 'Pass': True}\n"
          ]
        }
      ]
    },
    {
      "cell_type": "code",
      "source": [
        "#The del keyword can also delete the dictionary completely:\n",
        "del d3\n",
        "print(d3)"
      ],
      "metadata": {
        "colab": {
          "base_uri": "https://localhost:8080/",
          "height": 176
        },
        "id": "CGkKcwelASuG",
        "outputId": "ffabd8d7-3923-4934-c247-b899d67e24b5"
      },
      "execution_count": null,
      "outputs": [
        {
          "output_type": "error",
          "ename": "NameError",
          "evalue": "name 'd3' is not defined",
          "traceback": [
            "\u001b[0;31m---------------------------------------------------------------------------\u001b[0m",
            "\u001b[0;31mNameError\u001b[0m                                 Traceback (most recent call last)",
            "\u001b[0;32m<ipython-input-17-d0a536bf1a71>\u001b[0m in \u001b[0;36m<cell line: 2>\u001b[0;34m()\u001b[0m\n\u001b[1;32m      1\u001b[0m \u001b[0;31m#The del keyword can also delete the dictionary completely:\u001b[0m\u001b[0;34m\u001b[0m\u001b[0;34m\u001b[0m\u001b[0m\n\u001b[0;32m----> 2\u001b[0;31m \u001b[0;32mdel\u001b[0m \u001b[0md3\u001b[0m\u001b[0;34m\u001b[0m\u001b[0;34m\u001b[0m\u001b[0m\n\u001b[0m\u001b[1;32m      3\u001b[0m \u001b[0mprint\u001b[0m\u001b[0;34m(\u001b[0m\u001b[0md3\u001b[0m\u001b[0;34m)\u001b[0m\u001b[0;34m\u001b[0m\u001b[0;34m\u001b[0m\u001b[0m\n",
            "\u001b[0;31mNameError\u001b[0m: name 'd3' is not defined"
          ]
        }
      ]
    },
    {
      "cell_type": "code",
      "source": [
        "#The clear() method empties the dictionary:\n",
        "d3.clear()\n",
        "print(d3)"
      ],
      "metadata": {
        "colab": {
          "base_uri": "https://localhost:8080/"
        },
        "id": "gMS4nKMuAgx0",
        "outputId": "afff0c36-6526-4129-b07c-bd2644995d38"
      },
      "execution_count": null,
      "outputs": [
        {
          "output_type": "stream",
          "name": "stdout",
          "text": [
            "{}\n"
          ]
        }
      ]
    },
    {
      "cell_type": "code",
      "source": [
        "#Copy Dictionary\n",
        "d3={\"Name\":\"A\", \"Year\":2023, \"Pass\":True, \"Marks\":[50,60,70]}\n",
        "(d3)"
      ],
      "metadata": {
        "colab": {
          "base_uri": "https://localhost:8080/"
        },
        "id": "41zdWZNSBtEZ",
        "outputId": "4a12a838-b768-4712-c537-f246721ddc29"
      },
      "execution_count": null,
      "outputs": [
        {
          "output_type": "execute_result",
          "data": {
            "text/plain": [
              "{'Name': 'A', 'Year': 2023, 'Pass': True, 'Marks': [50, 60, 70]}"
            ]
          },
          "metadata": {},
          "execution_count": 21
        }
      ]
    },
    {
      "cell_type": "code",
      "source": [
        "d4=d3.copy()\n",
        "print(d4)"
      ],
      "metadata": {
        "colab": {
          "base_uri": "https://localhost:8080/"
        },
        "id": "J-_fwwOVCC0J",
        "outputId": "ea39134c-2a70-4110-b518-a2740ad3f5b4"
      },
      "execution_count": null,
      "outputs": [
        {
          "output_type": "stream",
          "name": "stdout",
          "text": [
            "{'Name': 'A', 'Year': 2023, 'Pass': True, 'Marks': [50, 60, 70]}\n"
          ]
        }
      ]
    },
    {
      "cell_type": "code",
      "source": [
        "d5=dict(d4)\n",
        "print(d5)"
      ],
      "metadata": {
        "colab": {
          "base_uri": "https://localhost:8080/"
        },
        "id": "on5GKvj0CvTT",
        "outputId": "3fa51ea6-e100-4240-81da-32f82c0c45b4"
      },
      "execution_count": null,
      "outputs": [
        {
          "output_type": "stream",
          "name": "stdout",
          "text": [
            "{'Name': 'A', 'Year': 2023, 'Pass': True, 'Marks': [50, 60, 70]}\n"
          ]
        }
      ]
    },
    {
      "cell_type": "code",
      "source": [
        "myfamily = {\n",
        "    \"child1\" : {\n",
        "      \"name\" : \"Emil\",\n",
        "      \"year\" : 2004\n",
        "    },\n",
        "    \"child2\" : {\n",
        "      \"name\" : \"Toblas\",\n",
        "      \"year\" : 2007\n",
        "    },\n",
        "    \"child3\" : {\n",
        "      \"name\" : \"Linus\",\n",
        "      \"year\" : 2011\n",
        "    }\n",
        "}\n",
        "print(myfamily)"
      ],
      "metadata": {
        "colab": {
          "base_uri": "https://localhost:8080/"
        },
        "id": "JkxOI9r-Dm2g",
        "outputId": "e95bf7fd-a9c9-4e8a-d079-e9eaadbd63a5"
      },
      "execution_count": null,
      "outputs": [
        {
          "output_type": "stream",
          "name": "stdout",
          "text": [
            "{'child1': {'name': 'Emil', 'year': 2004}, 'child2': {'name': 'Toblas', 'year': 2007}, 'child3': {'name': 'Linus', 'year': 2011}}\n"
          ]
        }
      ]
    },
    {
      "cell_type": "code",
      "source": [
        "print(myfamily[\"child2\"][\"name\"])"
      ],
      "metadata": {
        "colab": {
          "base_uri": "https://localhost:8080/"
        },
        "id": "pjDR0WKGGMs3",
        "outputId": "e219c94e-09fd-4436-b78b-ed8954eda4db"
      },
      "execution_count": null,
      "outputs": [
        {
          "output_type": "stream",
          "name": "stdout",
          "text": [
            "Toblas\n"
          ]
        }
      ]
    },
    {
      "cell_type": "code",
      "source": [
        "#cONDITIONAL STATEMENTS\n",
        "#Python supports these Logical conditions from mathematics:\n",
        "equals:a == b\n",
        "not equals:a != b\n",
        "\n"
      ],
      "metadata": {
        "id": "g9mKp_mu200W"
      },
      "execution_count": null,
      "outputs": []
    },
    {
      "cell_type": "code",
      "source": [
        "#An \"if statement\" is written by using the if keyword\n",
        "a = 50\n",
        "b = 100\n",
        "if b>a:\n",
        "  print(\"b is greater than a\")"
      ],
      "metadata": {
        "colab": {
          "base_uri": "https://localhost:8080/"
        },
        "id": "VHmMAaDR2xlp",
        "outputId": "87c4a756-b672-4d57-deb5-b536186dc804"
      },
      "execution_count": null,
      "outputs": [
        {
          "output_type": "stream",
          "name": "stdout",
          "text": [
            "b is greater than a\n"
          ]
        }
      ]
    },
    {
      "cell_type": "code",
      "source": [
        "number = int(input(\"Enter a number: \"))\n",
        "\n",
        "# Check if number is greater than 0\n",
        "if number > 0:\n",
        "  print(\"Given number is a positive number\")"
      ],
      "metadata": {
        "colab": {
          "base_uri": "https://localhost:8080/"
        },
        "id": "gtQ3F1YM3zIj",
        "outputId": "f553588d-3fc8-4ddc-ff91-e7cfdb126ef3"
      },
      "execution_count": null,
      "outputs": [
        {
          "output_type": "stream",
          "name": "stdout",
          "text": [
            "Enter a number: 6\n",
            "Given number is a positive number\n"
          ]
        }
      ]
    },
    {
      "cell_type": "code",
      "source": [
        "number = int(input(\"Enter a number: \"))\n",
        "\n",
        "# Check if number is greater than 0\n",
        "if number > 0:\n",
        "  print(\"Given number is a positive number\")\n",
        "else:\n",
        "  print(\"Given number is a negative number\")"
      ],
      "metadata": {
        "colab": {
          "base_uri": "https://localhost:8080/"
        },
        "id": "_tbZrU3m8dcM",
        "outputId": "a6e009d3-dbbc-4a7e-885a-f647c364e6d0"
      },
      "execution_count": null,
      "outputs": [
        {
          "output_type": "stream",
          "name": "stdout",
          "text": [
            "Enter a number: -2\n",
            "Given number is a negative number\n"
          ]
        }
      ]
    },
    {
      "cell_type": "code",
      "source": [
        "# Write a program to check whether a given number is even or odd\n",
        "num = int(input(\"Enter a number: \"))\n",
        "if (num % 2) == 0:\n",
        "   print(\"Odd No\")\n",
        "else:\n",
        "   print(\"Odd No\")"
      ],
      "metadata": {
        "colab": {
          "base_uri": "https://localhost:8080/"
        },
        "id": "CAHzdhGhA979",
        "outputId": "5019fafe-2e84-454e-80c7-4c88c5084c84"
      },
      "execution_count": null,
      "outputs": [
        {
          "output_type": "stream",
          "name": "stdout",
          "text": [
            "Enter a number: 5\n",
            "Odd No\n"
          ]
        }
      ]
    },
    {
      "cell_type": "code",
      "source": [
        "#elif\n",
        "\n",
        "a = 11\n",
        "b = 11\n",
        "if b > a:\n",
        "  print(\"b is greater than a\")\n",
        "elif a == b:\n",
        "  print(\"a and b are equal\")"
      ],
      "metadata": {
        "colab": {
          "base_uri": "https://localhost:8080/"
        },
        "id": "qUit7cxbBna9",
        "outputId": "1bdefcb5-e8af-4a9d-85d1-9298d243c216"
      },
      "execution_count": null,
      "outputs": [
        {
          "output_type": "stream",
          "name": "stdout",
          "text": [
            "a and b are equal\n"
          ]
        }
      ]
    },
    {
      "cell_type": "code",
      "source": [
        "number = -5\n",
        "if number > 0:\n",
        "  print(\"Positive number\")\n",
        "elif number < 0:\n",
        "  print(\"Negative number\")\n",
        "else:\n",
        "  print(\"Zero\")"
      ],
      "metadata": {
        "colab": {
          "base_uri": "https://localhost:8080/"
        },
        "id": "vSpzNrgBCamD",
        "outputId": "2b18b1d8-0491-4367-fbd9-cc34de2e66bf"
      },
      "execution_count": null,
      "outputs": [
        {
          "output_type": "stream",
          "name": "stdout",
          "text": [
            "Negative number\n"
          ]
        }
      ]
    },
    {
      "cell_type": "code",
      "source": [
        "#Nested if statements\n",
        "number = 5\n",
        "\n",
        "#outer if statement\n",
        "if number > 0:\n",
        "  # inner if statement\n",
        "  if number == 0:\n",
        "    print(\"Number is 0\")\n",
        "\n",
        "  # inner else statement\n",
        "  else:\n",
        "      print(\"Number is positive\")\n",
        "\n",
        "# outer else statement\n",
        "else:\n",
        "    print(\"Number is negative\")"
      ],
      "metadata": {
        "colab": {
          "base_uri": "https://localhost:8080/"
        },
        "id": "cyqFNf6KEOrE",
        "outputId": "ce493d0b-db3a-4492-cb08-3fe747725a9c"
      },
      "execution_count": null,
      "outputs": [
        {
          "output_type": "stream",
          "name": "stdout",
          "text": [
            "Number is positive\n"
          ]
        }
      ]
    },
    {
      "cell_type": "code",
      "source": [
        "#While loop we can execute a set of statements as long as a condition is\n",
        "i = 1\n",
        "while i < 5:\n",
        "  print(i)\n",
        "  i= i + 1"
      ],
      "metadata": {
        "colab": {
          "base_uri": "https://localhost:8080/"
        },
        "id": "6raq1LshRPAf",
        "outputId": "fd9e9e22-f1b8-47b7-cd6c-faa15b760743"
      },
      "execution_count": null,
      "outputs": [
        {
          "output_type": "stream",
          "name": "stdout",
          "text": [
            "1\n",
            "2\n",
            "3\n",
            "4\n"
          ]
        }
      ]
    },
    {
      "cell_type": "code",
      "source": [
        "#Print Odd Numbers from 0 to 10\n",
        "i = 1\n",
        "while i < 10:\n",
        "  print(i)\n",
        "  i= i + 2"
      ],
      "metadata": {
        "colab": {
          "base_uri": "https://localhost:8080/"
        },
        "id": "GCpiddFlRrcw",
        "outputId": "132cc63a-4154-4d4f-df54-7faa7497de7e"
      },
      "execution_count": null,
      "outputs": [
        {
          "output_type": "stream",
          "name": "stdout",
          "text": [
            "1\n",
            "3\n",
            "5\n",
            "7\n",
            "9\n"
          ]
        }
      ]
    },
    {
      "cell_type": "code",
      "source": [
        "#\n",
        "i = 0\n",
        "while i < 10:\n",
        "  i += 1\n",
        "  if i == 3:\n",
        "    continue\n",
        "  print(i)"
      ],
      "metadata": {
        "colab": {
          "base_uri": "https://localhost:8080/"
        },
        "id": "FnONz1SQSR5A",
        "outputId": "480ff6ff-859d-4d52-c5e5-8eac8439f7ad"
      },
      "execution_count": null,
      "outputs": [
        {
          "output_type": "stream",
          "name": "stdout",
          "text": [
            "1\n",
            "2\n",
            "4\n",
            "5\n",
            "6\n",
            "7\n",
            "8\n",
            "9\n",
            "10\n"
          ]
        }
      ]
    },
    {
      "cell_type": "code",
      "source": [
        "# Write a program to find sum of first n natural numbers.\n",
        "n = int(input(\"enter the last number: \"))\n",
        "i = 1\n",
        "sum = 0\n",
        "while (i <= n):\n",
        "  sum = sum + i\n",
        "  i = i + 1\n",
        "print(\"The sum is: \", sum)"
      ],
      "metadata": {
        "colab": {
          "base_uri": "https://localhost:8080/"
        },
        "id": "IHAcRzTBS3LE",
        "outputId": "b4ec20e4-772b-4283-9efe-0c527a4d6fc1"
      },
      "execution_count": null,
      "outputs": [
        {
          "output_type": "stream",
          "name": "stdout",
          "text": [
            "enter the last number:10\n",
            "The sum is:  55\n"
          ]
        }
      ]
    },
    {
      "cell_type": "code",
      "source": [
        "#Break Statement\n",
        "i = 1\n",
        "while (i < 10):\n",
        "  print(i)\n",
        "  if i == 3:\n",
        "    break\n",
        "  i = i+1"
      ],
      "metadata": {
        "colab": {
          "base_uri": "https://localhost:8080/"
        },
        "id": "xHkzMaxX7LEH",
        "outputId": "e0493293-dab5-4a5a-bfd7-067b3f70f02d"
      },
      "execution_count": null,
      "outputs": [
        {
          "output_type": "stream",
          "name": "stdout",
          "text": [
            "1\n",
            "2\n",
            "3\n"
          ]
        }
      ]
    },
    {
      "cell_type": "code",
      "source": [
        "#Continue Statement\n",
        "i = 0\n",
        "while (i < 10):\n",
        "  i = i+1\n",
        "  if(i==3):\n",
        "    continue\n",
        "  print(i)"
      ],
      "metadata": {
        "colab": {
          "base_uri": "https://localhost:8080/"
        },
        "id": "zP5i3oh_8Qkm",
        "outputId": "6ee2cfa0-ae49-48df-a728-9413cc6cd459"
      },
      "execution_count": null,
      "outputs": [
        {
          "output_type": "stream",
          "name": "stdout",
          "text": [
            "1\n",
            "2\n",
            "4\n",
            "5\n",
            "6\n",
            "7\n",
            "8\n",
            "9\n",
            "10\n"
          ]
        }
      ]
    },
    {
      "cell_type": "code",
      "source": [
        "#Find the square of first 10 natural number\n",
        "i = 1\n",
        "while i <= 10:\n",
        "  print(i*i)\n",
        "  i+=1"
      ],
      "metadata": {
        "id": "pEAuicfp-FxH",
        "colab": {
          "base_uri": "https://localhost:8080/"
        },
        "outputId": "c6a90548-a24f-46dd-8b8e-e6853c1b10b9"
      },
      "execution_count": null,
      "outputs": [
        {
          "output_type": "stream",
          "name": "stdout",
          "text": [
            "1\n",
            "4\n",
            "9\n",
            "16\n",
            "25\n",
            "36\n",
            "49\n",
            "64\n",
            "81\n",
            "100\n"
          ]
        }
      ]
    },
    {
      "cell_type": "code",
      "source": [
        "# A for loop is used for iterating over a sequence\n",
        "#(that is either a list, a tuple, a dictionary or a string)\n",
        "\n",
        "L1 = [\"A\", \"B\", \"C\", \"D\"]\n",
        "for x in L1:\n",
        "  print(x)"
      ],
      "metadata": {
        "colab": {
          "base_uri": "https://localhost:8080/"
        },
        "id": "i3E6_4BYDUuK",
        "outputId": "2673bc06-4ad2-4824-a42c-5e37f1fc9b9b"
      },
      "execution_count": null,
      "outputs": [
        {
          "output_type": "stream",
          "name": "stdout",
          "text": [
            "A\n",
            "B\n",
            "C\n",
            "D\n"
          ]
        }
      ]
    },
    {
      "cell_type": "code",
      "source": [
        "for x in \"AAFT\":\n",
        "  print(x)"
      ],
      "metadata": {
        "colab": {
          "base_uri": "https://localhost:8080/"
        },
        "id": "8C2n9a-UF0Q0",
        "outputId": "0d8f6b58-8a92-46fb-ebbf-cd907b8a6b24"
      },
      "execution_count": null,
      "outputs": [
        {
          "output_type": "stream",
          "name": "stdout",
          "text": [
            "A\n",
            "A\n",
            "F\n",
            "T\n"
          ]
        }
      ]
    },
    {
      "cell_type": "code",
      "source": [
        "#break Statement\n",
        "#Exit the loop when x is \"B\":\n",
        "\n",
        "L1 = [\"A\", \"B\", \"C\", \"D\"]\n",
        "for x in L1:\n",
        "  print(x)\n",
        "  if x == \"B\":\n",
        "    break"
      ],
      "metadata": {
        "colab": {
          "base_uri": "https://localhost:8080/"
        },
        "id": "xtg3LL1zF90m",
        "outputId": "de262cdf-e091-450c-eff1-d249c5805946"
      },
      "execution_count": null,
      "outputs": [
        {
          "output_type": "stream",
          "name": "stdout",
          "text": [
            "A\n",
            "B\n"
          ]
        }
      ]
    },
    {
      "cell_type": "code",
      "source": [
        "# Exit the loop when x is \"B\", but this time the break comes\n",
        "# before the print:\n",
        "\n",
        "\n",
        "L1 = [\"A\", \"B\", \"C\", \"D\"]\n",
        "for x in L1:\n",
        "  if x == \"B\":\n",
        "    break\n",
        "  print(x)"
      ],
      "metadata": {
        "colab": {
          "base_uri": "https://localhost:8080/"
        },
        "id": "k0mN8UTlG4s7",
        "outputId": "2938976b-da1e-43ea-c3e2-037b97248870"
      },
      "execution_count": null,
      "outputs": [
        {
          "output_type": "stream",
          "name": "stdout",
          "text": [
            "A\n"
          ]
        }
      ]
    },
    {
      "cell_type": "code",
      "source": [
        "# Continue Statement\n",
        "\n",
        "L1 = [\"A\", \"B\", \"C\", \"D\"]\n",
        "for x in L1:\n",
        "  if x == \"B\":\n",
        "    continue\n",
        "  print(x)"
      ],
      "metadata": {
        "colab": {
          "base_uri": "https://localhost:8080/"
        },
        "id": "xfSbWhkuHTpP",
        "outputId": "5f6a2913-7901-4d35-a4a1-4147a7623046"
      },
      "execution_count": null,
      "outputs": [
        {
          "output_type": "stream",
          "name": "stdout",
          "text": [
            "A\n",
            "C\n",
            "D\n"
          ]
        }
      ]
    },
    {
      "cell_type": "code",
      "source": [
        "# range() Function\n",
        "for x in range(1,11):\n",
        "  print(x)"
      ],
      "metadata": {
        "colab": {
          "base_uri": "https://localhost:8080/"
        },
        "id": "a4Qun6t4Hb8A",
        "outputId": "0124991d-d08f-454d-a25f-88b0aceff3d2"
      },
      "execution_count": null,
      "outputs": [
        {
          "output_type": "stream",
          "name": "stdout",
          "text": [
            "1\n",
            "2\n",
            "3\n",
            "4\n",
            "5\n",
            "6\n",
            "7\n",
            "8\n",
            "9\n",
            "10\n"
          ]
        }
      ]
    },
    {
      "cell_type": "code",
      "source": [
        "for x in range(2,6):\n",
        "  print(x)"
      ],
      "metadata": {
        "colab": {
          "base_uri": "https://localhost:8080/"
        },
        "id": "0LgSzaOqHrFK",
        "outputId": "d48caeeb-de58-42ed-f77a-d0ed4c54929f"
      },
      "execution_count": null,
      "outputs": [
        {
          "output_type": "stream",
          "name": "stdout",
          "text": [
            "2\n",
            "3\n",
            "4\n",
            "5\n"
          ]
        }
      ]
    },
    {
      "cell_type": "code",
      "source": [
        "for x in range(2,30,3):\n",
        "  print(x)"
      ],
      "metadata": {
        "colab": {
          "base_uri": "https://localhost:8080/"
        },
        "id": "3u_PHA6tH1s1",
        "outputId": "3816f776-0b3e-4188-87fa-5364a25c3b6f"
      },
      "execution_count": null,
      "outputs": [
        {
          "output_type": "stream",
          "name": "stdout",
          "text": [
            "2\n",
            "5\n",
            "8\n",
            "11\n",
            "14\n",
            "17\n",
            "20\n",
            "23\n",
            "26\n",
            "29\n"
          ]
        }
      ]
    },
    {
      "cell_type": "code",
      "source": [
        "# Nested For Loops\n",
        "\n",
        "L2 = [1,2,3]\n",
        "L3 = [\"Google\", \"Meta\", \"Fujitsu\"]\n",
        "\n",
        "for x in L2:\n",
        "  for y in L3:\n",
        "    print(x,y)"
      ],
      "metadata": {
        "colab": {
          "base_uri": "https://localhost:8080/"
        },
        "id": "gbzvwrpzH_li",
        "outputId": "c8d9cdc9-bdf3-4279-cc45-202d0f6184f8"
      },
      "execution_count": null,
      "outputs": [
        {
          "output_type": "stream",
          "name": "stdout",
          "text": [
            "1 Google\n",
            "1 Meta\n",
            "1 Fujitsu\n",
            "2 Google\n",
            "2 Meta\n",
            "2 Fujitsu\n",
            "3 Google\n",
            "3 Meta\n",
            "3 Fujitsu\n"
          ]
        }
      ]
    },
    {
      "cell_type": "code",
      "source": [
        "# pass statement :for loops cannot be empty,\n",
        "# but if you for some reason have a for loop with no content,\n",
        "# put in the pass statement to avoid getting an error.\n",
        "\n",
        "for x in [0,1,2]:\n",
        "  pass"
      ],
      "metadata": {
        "id": "82Hx7BSZJ1c0"
      },
      "execution_count": null,
      "outputs": []
    },
    {
      "cell_type": "code",
      "source": [
        "i = 10\n",
        "while i > 0:\n",
        "  print(i)\n",
        "  i = i-1"
      ],
      "metadata": {
        "colab": {
          "base_uri": "https://localhost:8080/"
        },
        "id": "Qk26ICe9LwWh",
        "outputId": "21a2012a-6195-46aa-8a3b-07093ffd6f78"
      },
      "execution_count": null,
      "outputs": [
        {
          "output_type": "stream",
          "name": "stdout",
          "text": [
            "10\n",
            "9\n",
            "8\n",
            "7\n",
            "6\n",
            "5\n",
            "4\n",
            "3\n",
            "2\n",
            "1\n"
          ]
        }
      ]
    },
    {
      "cell_type": "code",
      "source": [
        "# WAP for factorial of a number using the loop.\n",
        "\n",
        "num = int(input(\"Enter any number:\"))\n",
        "\n",
        "# Initialize the factorial variable to 1\n",
        "fact = 1\n",
        "\n",
        "#Calculate the factorial using a for loop\n",
        "for i in range(1, num + 1):\n",
        "  fact =fact* i\n",
        "print(\"Factorial of a number is\",fact)"
      ],
      "metadata": {
        "colab": {
          "base_uri": "https://localhost:8080/"
        },
        "id": "2w0I0VxhCeyg",
        "outputId": "1254e638-4aa2-4446-d7dd-5fb06a07814a"
      },
      "execution_count": null,
      "outputs": [
        {
          "output_type": "stream",
          "name": "stdout",
          "text": [
            "Enter any number:5\n",
            "Factorial of a number is 120\n"
          ]
        }
      ]
    },
    {
      "cell_type": "code",
      "source": [
        "n = int(input(\"Enter any number:\"))\n",
        "# logic to calculate the factorial of a number\n",
        "f = 1\n",
        "while n >= 1:\n",
        "  f = f * n\n",
        "  n = n- 1\n",
        "# print output\n",
        "print(\"Factorial is\", f)"
      ],
      "metadata": {
        "colab": {
          "base_uri": "https://localhost:8080/"
        },
        "id": "2GakovstEetK",
        "outputId": "a0373cc0-98ed-489b-afe0-ba004b085c20"
      },
      "execution_count": null,
      "outputs": [
        {
          "output_type": "stream",
          "name": "stdout",
          "text": [
            "Enter any number:5\n",
            "Factorial is 120\n"
          ]
        }
      ]
    },
    {
      "cell_type": "code",
      "source": [
        "# WAP to check whether a given number is prime or not?\n",
        "\n",
        "num = int(input(\"Enter a number: \"))\n",
        "\n",
        "if num == 0 or num == 1:\n",
        "  print(num, \"is not a prime number\")\n",
        "elif num > 1:\n",
        "  # check for factors\n",
        "  for i in range(2,num):\n",
        "      if (num % i) == 0:\n",
        "          print(num, \"is not a prime number\")\n",
        "          break\n",
        "  else:\n",
        "     print(num, \"is a prime number\")\n",
        "\n",
        "# if input number is less than\n",
        "# or equal to 1, it is not prime\n",
        "else:\n",
        "  print(num, \"is not a prime number:\")"
      ],
      "metadata": {
        "colab": {
          "base_uri": "https://localhost:8080/"
        },
        "id": "YcmeSqNEE_cE",
        "outputId": "81a0a6bd-6c4c-420b-a408-4bad67de53e9"
      },
      "execution_count": null,
      "outputs": [
        {
          "output_type": "stream",
          "name": "stdout",
          "text": [
            "Enter a number: 5\n",
            "5 is a prime number\n"
          ]
        }
      ]
    },
    {
      "cell_type": "code",
      "source": [
        "# WAP to find reverse of a number?\n",
        "\n",
        "num = int(input(\" Enter any number:\"))\n",
        "rev = 0\n",
        "while(num>0):\n",
        "  rev=(rev*10)+num%10\n",
        "  num=num//10\n",
        "print(\"Reverse of given number is:\",rev)"
      ],
      "metadata": {
        "colab": {
          "base_uri": "https://localhost:8080/"
        },
        "id": "LWmhPRtUJkVl",
        "outputId": "44ba5000-e5a8-4b5f-8c95-7501eb5ca5dd"
      },
      "execution_count": null,
      "outputs": [
        {
          "output_type": "stream",
          "name": "stdout",
          "text": [
            " Enter any number:234\n",
            "Reverse of given number is: 432\n"
          ]
        }
      ]
    },
    {
      "cell_type": "code",
      "source": [
        "num = int(input(\"Enter number: \"))\n",
        "rev = 0\n",
        "while num>0:\n",
        "  rev=rev*10+num%10\n",
        "  num=num//10\n",
        "\n",
        "print(\"Reverse number\", rev)"
      ],
      "metadata": {
        "id": "r40BSn3vwUWh"
      },
      "execution_count": null,
      "outputs": []
    },
    {
      "cell_type": "code",
      "source": [
        "# WAP to check whether the given number is Palindrome or not?\n",
        "\n",
        "num = int(input(\" Enter any number:\"))\n",
        "rev = 0\n",
        "x = num\n",
        "while(num>0):\n",
        "  rev=(rev*10)+num%10\n",
        "  num=num//10\n",
        "\n",
        "if (x==rev):\n",
        "  print(\"Given number is palindrome\")\n",
        "else:\n",
        "  print(\"Given number is not palindrome\")"
      ],
      "metadata": {
        "colab": {
          "base_uri": "https://localhost:8080/"
        },
        "id": "QRPFnqZmIqSD",
        "outputId": "dbba5716-dccc-4c3f-d2da-1b3c493c0518"
      },
      "execution_count": null,
      "outputs": [
        {
          "output_type": "stream",
          "name": "stdout",
          "text": [
            " Enter any number:121\n",
            "Given number is palindrome\n"
          ]
        }
      ]
    },
    {
      "cell_type": "code",
      "source": [
        "num = int(input(\" Enter any number:\"))\n",
        "rev = 0\n",
        "x = num\n",
        "while(num>0):\n",
        "  rev=(rev*10)+num%10\n",
        "  num=num//10\n",
        "\n",
        "if (x==rev):\n",
        "  print(\"Given number is palindrome\")\n",
        "else:\n",
        "  print(\"Given number is not palindrome\")"
      ],
      "metadata": {
        "id": "AHzQnmYrRAvN"
      },
      "execution_count": null,
      "outputs": []
    },
    {
      "cell_type": "code",
      "source": [
        "# WAP to check whether given number is Armstrong or not?\n",
        "\n",
        "n=int(input(\"Enter number:\"))\n",
        "x=n\n",
        "sum=0\n",
        "while(n>0):\n",
        "  sum=sum+(n%10)*(n)"
      ],
      "metadata": {
        "id": "mFk5KDAsTqb6"
      },
      "execution_count": null,
      "outputs": []
    },
    {
      "cell_type": "markdown",
      "source": [
        "# WAP to print Pattern:\n",
        "*\n",
        "**\n",
        "***\n",
        "****\n",
        "*****"
      ],
      "metadata": {
        "id": "ZSpZP4InYL58"
      }
    },
    {
      "cell_type": "code",
      "source": [
        "num=int(input(\"Enter number of rows:\"))\n",
        "for i in range(1,num+1):\n",
        "  for j in range(1,i+1):\n",
        "    print(\"*\",end=\"\")\n",
        "  print()"
      ],
      "metadata": {
        "colab": {
          "base_uri": "https://localhost:8080/"
        },
        "id": "l8I3HyOiYjIb",
        "outputId": "e3da63e7-1b75-4167-80a1-c3023bce3de7"
      },
      "execution_count": null,
      "outputs": [
        {
          "output_type": "stream",
          "name": "stdout",
          "text": [
            "Enter number of rows:5\n",
            "*\n",
            "**\n",
            "***\n",
            "****\n",
            "*****\n"
          ]
        }
      ]
    },
    {
      "cell_type": "code",
      "source": [
        "#A function is a block of code which only runs when it is called.\n",
        "#Functions help in organizing code, reusing code and improving readability.\n",
        "#You can pass data, known as parameters, into a function.\n",
        "#A function can return data as a result."
      ],
      "metadata": {
        "id": "uBaxdgLUZC84"
      },
      "execution_count": null,
      "outputs": []
    },
    {
      "cell_type": "code",
      "source": [
        "# a function is defined using the def keyword:\n",
        "def my_function():\n",
        "  print(\"Hello from a function\")"
      ],
      "metadata": {
        "id": "Vox8veZBDOtU"
      },
      "execution_count": null,
      "outputs": []
    },
    {
      "cell_type": "code",
      "source": [
        "# calling function\n",
        "def my_function():\n",
        "  print(\"Hello from a function\")\n",
        "\n",
        "my_function()"
      ],
      "metadata": {
        "colab": {
          "base_uri": "https://localhost:8080/"
        },
        "id": "xhLecVHYDl01",
        "outputId": "b75c5ab7-b653-4408-d517-6bbf8df9e095"
      },
      "execution_count": null,
      "outputs": [
        {
          "output_type": "stream",
          "name": "stdout",
          "text": [
            "Hello from a function\n"
          ]
        }
      ]
    },
    {
      "cell_type": "code",
      "source": [
        "#Arguments\n",
        "#Information can be passed into functions as arguments.\n",
        "#Arguments are specified after the function name, inside the parentheses.\n",
        "def my_function(fname):\n",
        "  print(fname + \"Trump\")\n",
        "\n",
        "my_function(\"Donald\")"
      ],
      "metadata": {
        "colab": {
          "base_uri": "https://localhost:8080/"
        },
        "id": "VFqBsyMfD4xD",
        "outputId": "5f518eb8-9d9d-4991-ca70-44054154209d"
      },
      "execution_count": null,
      "outputs": [
        {
          "output_type": "stream",
          "name": "stdout",
          "text": [
            "DonaldTrump\n"
          ]
        }
      ]
    },
    {
      "cell_type": "code",
      "source": [
        "my_function(\"Melliania\")"
      ],
      "metadata": {
        "colab": {
          "base_uri": "https://localhost:8080/"
        },
        "id": "qJU_I9_pISlW",
        "outputId": "86ee2ae7-0fc0-412c-d0fa-44b4603d33b2"
      },
      "execution_count": null,
      "outputs": [
        {
          "output_type": "stream",
          "name": "stdout",
          "text": [
            "MellianiaTrump\n"
          ]
        }
      ]
    },
    {
      "cell_type": "code",
      "source": [
        "#Parameters or Arguments\n",
        "#A parameter is the variable listed inside the parentheses in the function definition.\n",
        "#An argument is the value that is sent to the function when it is called."
      ],
      "metadata": {
        "id": "ZoJImiGME0-i"
      },
      "execution_count": null,
      "outputs": []
    },
    {
      "cell_type": "code",
      "source": [
        "#Syntax with return statement:\n",
        "def function_name(parameters):\n",
        "  #Function body\n",
        "return expression"
      ],
      "metadata": {
        "id": "fk6u7NO6JH4G"
      },
      "execution_count": null,
      "outputs": []
    },
    {
      "cell_type": "code",
      "source": [
        "def even_odd(num):\n",
        "  if num%2==0:\n",
        "    print(\"the number is even\")\n",
        "  else:\n",
        "    print(\"the number is odd\")"
      ],
      "metadata": {
        "id": "jti-IC6OJKdg"
      },
      "execution_count": null,
      "outputs": []
    },
    {
      "cell_type": "code",
      "source": [
        "#call this function\n",
        "even_odd(24)"
      ],
      "metadata": {
        "colab": {
          "base_uri": "https://localhost:8080/"
        },
        "id": "EC1gbbxJJvAV",
        "outputId": "4f8de34b-64fa-4bd9-b2a4-afe12ddb635f"
      },
      "execution_count": null,
      "outputs": [
        {
          "output_type": "stream",
          "name": "stdout",
          "text": [
            "the number is even\n"
          ]
        }
      ]
    },
    {
      "cell_type": "code",
      "source": [
        "# Function with multiple parameters\n",
        "def add(a,b):\n",
        "  return a+b\n",
        "\n",
        "\n",
        "add(2,3)"
      ],
      "metadata": {
        "colab": {
          "base_uri": "https://localhost:8080/"
        },
        "id": "-xwXy6dtJ3HI",
        "outputId": "5323d0ad-a437-4902-8c1f-fd3b38bcdc0a"
      },
      "execution_count": null,
      "outputs": [
        {
          "output_type": "execute_result",
          "data": {
            "text/plain": [
              "5"
            ]
          },
          "metadata": {},
          "execution_count": 11
        }
      ]
    },
    {
      "cell_type": "code",
      "source": [
        "add(4,5)"
      ],
      "metadata": {
        "colab": {
          "base_uri": "https://localhost:8080/"
        },
        "id": "cSqzmSNIKJWk",
        "outputId": "464a950a-7411-44b2-ea03-8b37118e12ed"
      },
      "execution_count": null,
      "outputs": [
        {
          "output_type": "execute_result",
          "data": {
            "text/plain": [
              "9"
            ]
          },
          "metadata": {},
          "execution_count": 12
        }
      ]
    },
    {
      "cell_type": "code",
      "source": [
        "# Function can return multiple values\n",
        "def add(a,b):\n",
        "  return a+b,a\n",
        "\n",
        "\n",
        "add(2,4)"
      ],
      "metadata": {
        "colab": {
          "base_uri": "https://localhost:8080/"
        },
        "id": "J0Iw3uOOKMAl",
        "outputId": "f82af7fe-30eb-49df-a7b1-e6552b15862a"
      },
      "execution_count": null,
      "outputs": [
        {
          "output_type": "execute_result",
          "data": {
            "text/plain": [
              "(6, 2)"
            ]
          },
          "metadata": {},
          "execution_count": 13
        }
      ]
    },
    {
      "cell_type": "code",
      "source": [
        "# Write a function to swap two numbers without using third variable.\n",
        "def swap(a,b):\n",
        "    a,b=b,a\n",
        "    print(a)\n",
        "    print(b)"
      ],
      "metadata": {
        "id": "chtpUmrnKmY3"
      },
      "execution_count": null,
      "outputs": []
    },
    {
      "cell_type": "code",
      "source": [
        "swap(2,4)"
      ],
      "metadata": {
        "colab": {
          "base_uri": "https://localhost:8080/"
        },
        "id": "Tnte_ZniOb4T",
        "outputId": "a509c659-d881-4637-c16c-27ffb103f543"
      },
      "execution_count": null,
      "outputs": [
        {
          "output_type": "stream",
          "name": "stdout",
          "text": [
            "4\n",
            "2\n"
          ]
        }
      ]
    }
  ]
}